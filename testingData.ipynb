{
 "cells": [
  {
   "cell_type": "code",
   "execution_count": 8,
   "id": "01ad001d",
   "metadata": {},
   "outputs": [],
   "source": [
    "from scipy.io import loadmat\n",
    "import pandas as pd\n",
    "\n",
    "# Load the .mat file\n",
    "data = loadmat('pwr/PWR_exp_002.mat')\n",
    "\n",
    "pwr = data['PWR']"
   ]
  },
  {
   "cell_type": "code",
   "execution_count": 29,
   "id": "299e0be3",
   "metadata": {},
   "outputs": [],
   "source": [
    "# Flattening to extract column list\n",
    "columns = [item[0] for item in pwr[0]]\n",
    "\n",
    "# Making a DataFrame for readability\n",
    "df = pd.DataFrame(data=pwr[1:], columns=columns)"
   ]
  },
  {
   "cell_type": "code",
   "execution_count": 30,
   "id": "e139faaa",
   "metadata": {},
   "outputs": [
    {
     "name": "stdout",
     "output_type": "stream",
     "text": [
      "<class 'pandas.core.frame.DataFrame'>\n"
     ]
    }
   ],
   "source": [
    "print(type(df))"
   ]
  },
  {
   "cell_type": "code",
   "execution_count": 31,
   "id": "a852419e",
   "metadata": {},
   "outputs": [
    {
     "name": "stdout",
     "output_type": "stream",
     "text": [
      "array([[array(['15:07:30.646'], dtype='<U12')]], dtype=object)\n"
     ]
    }
   ],
   "source": [
    "# Show raw value from the first row of the timestamp column\n",
    "print(repr(df['timestamp'].iloc[0]))\n"
   ]
  },
  {
   "cell_type": "code",
   "execution_count": 35,
   "id": "a6ca03a0",
   "metadata": {},
   "outputs": [
    {
     "name": "stdout",
     "output_type": "stream",
     "text": [
      "0   1900-01-01 15:07:30.646\n",
      "1   1900-01-01 15:07:30.764\n",
      "2   1900-01-01 15:07:30.847\n",
      "3   1900-01-01 15:07:30.948\n",
      "4   1900-01-01 15:07:31.047\n",
      "Name: timestamp, dtype: datetime64[ns]\n"
     ]
    }
   ],
   "source": [
    "import pandas as pd\n",
    "import numpy as np\n",
    "from datetime import timedelta\n",
    "\n",
    "# Step 1: Flatten the nested structure AND cast to native Python string\n",
    "df['timestamp'] = df['timestamp'].apply(lambda x: str(x[0][0][0]) if isinstance(x, np.ndarray) else str(x))\n",
    "\n",
    "# Step 2: Parse the string as datetime\n",
    "df['timestamp'] = pd.to_datetime(df['timestamp'], format=\"%H:%M:%S.%f\", errors='coerce')\n",
    "\n",
    "# Step 3: Check\n",
    "print(df['timestamp'].head())"
   ]
  },
  {
   "cell_type": "code",
   "execution_count": 41,
   "id": "7e885fef",
   "metadata": {},
   "outputs": [
    {
     "name": "stdout",
     "output_type": "stream",
     "text": [
      "Average rows per 3-second window: 30.16\n"
     ]
    }
   ],
   "source": [
    "from datetime import timedelta\n",
    "\n",
    "window_size = timedelta(seconds=3)\n",
    "row_counts = []\n",
    "\n",
    "start_idx = 0\n",
    "while start_idx < len(df):\n",
    "    start_time = df.iloc[start_idx]['timestamp']\n",
    "    end_time = start_time + window_size\n",
    "\n",
    "    window = df[(df['timestamp'] >= start_time) & (df['timestamp'] < end_time)]\n",
    "\n",
    "    if len(window) == 0:\n",
    "        start_idx += 1\n",
    "        continue\n",
    "\n",
    "    row_counts.append(len(window))\n",
    "\n",
    "    # Move to the next non-overlapping window\n",
    "    start_idx = window.index[-1] + 1\n",
    "\n",
    "# Final average\n",
    "avg_rows = sum(row_counts) / len(row_counts)\n",
    "\n",
    "print(f\"Average rows per 3-second window: {avg_rows:.2f}\")\n"
   ]
  }
 ],
 "metadata": {
  "kernelspec": {
   "display_name": "text_analytics",
   "language": "python",
   "name": "python3"
  },
  "language_info": {
   "codemirror_mode": {
    "name": "ipython",
    "version": 3
   },
   "file_extension": ".py",
   "mimetype": "text/x-python",
   "name": "python",
   "nbconvert_exporter": "python",
   "pygments_lexer": "ipython3",
   "version": "3.11.11"
  }
 },
 "nbformat": 4,
 "nbformat_minor": 5
}
